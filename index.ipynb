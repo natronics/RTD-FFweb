{
 "cells": [
  {
   "cell_type": "markdown",
   "metadata": {},
   "source": [
    "# RTD Flatiron Flyer \"Transit Web\"\n",
    "\n",
    "[<span class=\"pubdate\">August, 2016</span>](https://natronics.github.io/RTD-FFweb/)\n",
    "\n",
    "Inspired by [Étienne-Jules Marey's graphical train schedule](http://www.edwardtufte.com/bboard/q-and-a-fetch-msg?msg_id=0003zP), a graphical bus schedule for the Flatiron Flyer line between Denver and Boulder Colorado."
   ]
  },
  {
   "cell_type": "code",
   "execution_count": null,
   "metadata": {
    "collapsed": false
   },
   "outputs": [],
   "source": [
    "stations = [\n",
    "    {'name': \"Downtown Boulder Station\", 'dist':  0.0 },\n",
    "    {'name': \"Broadway & Euclid\",        'dist':  1.7 },\n",
    "    {'name': \"Broadway & 20th\",          'dist':  0.38},\n",
    "    {'name': \"Broadway & Baseline\",      'dist':  0.63},\n",
    "    {'name': \"Broadway & Dartmouth\",     'dist':  1.3 },\n",
    "    {'name': \"Table Mesa & 39th\",        'dist':  0.83},\n",
    "    {'name': \"Table Mesa Station\",       'dist':  1.2 },\n",
    "    {'name': \"McCaslin Station\",         'dist':  6.6 },\n",
    "    {'name': \"Flatiron Station\",         'dist':  4.6 },\n",
    "    {'name': \"Broomfield Station\",       'dist':  4.5 },\n",
    "    {'name': \"Church Range Station\",     'dist':  2.3 },\n",
    "    {'name': \"Sheridan Station\",         'dist':  3.8 },\n",
    "    {'name': \"Park Ave. West & Wewatta\", 'dist': 14.93},\n",
    "    {'name': \"Union Station\",            'dist':  1.15},\n",
    "]\n",
    "\n",
    "print(\"\"\"\n",
    "The Flatiron Flyer route has %d stops covering a total of %0.1f km.\n",
    "\"\"\" % (len(stations), sum([s['dist'] for s in stations])))"
   ]
  },
  {
   "cell_type": "markdown",
   "metadata": {},
   "source": []
  }
 ],
 "metadata": {
  "kernelspec": {
   "display_name": "Python 3",
   "language": "python",
   "name": "python3"
  },
  "language_info": {
   "codemirror_mode": {
    "name": "ipython",
    "version": 3
   },
   "file_extension": ".py",
   "mimetype": "text/x-python",
   "name": "python",
   "nbconvert_exporter": "python",
   "pygments_lexer": "ipython3",
   "version": "3.5.2"
  }
 },
 "nbformat": 4,
 "nbformat_minor": 1
}
