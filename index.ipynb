{
 "cells": [
  {
   "cell_type": "markdown",
   "metadata": {},
   "source": [
    "# RTD Flatiron Flyer \"Transit Web\"\n",
    "\n",
    "[<span class=\"pubdate\">August, 2016</span>](https://natronics.github.io/RTD-FFweb/)\n",
    "\n",
    "Inspired by [Étienne-Jules Marey's graphical train schedule](http://www.edwardtufte.com/bboard/q-and-a-fetch-msg?msg_id=0003zP), a graphical bus schedule for the Flatiron Flyer line between Denver and Boulder Colorado."
   ]
  },
  {
   "cell_type": "code",
   "execution_count": null,
   "metadata": {
    "collapsed": false
   },
   "outputs": [],
   "source": [
    "stations = [\n",
    "    {'name': \"Downtown Boulder Station\",     'dist':  0.0 },\n",
    "    {'name': \"Broadway &amp; Euclid\",        'dist':  1.7 },\n",
    "    {'name': \"Broadway &amp; 20th\",          'dist':  0.38},\n",
    "    {'name': \"Broadway &amp; Baseline\",      'dist':  0.63},\n",
    "    {'name': \"Broadway &amp; Dartmouth\",     'dist':  1.3 },\n",
    "    {'name': \"Table Mesa &amp; 39th\",        'dist':  0.83},\n",
    "    {'name': \"Table Mesa Station\",           'dist':  1.2 },\n",
    "    {'name': \"McCaslin Station\",             'dist':  6.6 },\n",
    "    {'name': \"Flatiron Station\",             'dist':  4.6 },\n",
    "    {'name': \"Broomfield Station\",           'dist':  4.5 },\n",
    "    {'name': \"Church Range Station\",         'dist':  2.3 },\n",
    "    {'name': \"Sheridan Station\",             'dist':  3.8 },\n",
    "    {'name': \"Park Ave. West &amp; Wewatta\", 'dist': 14.93},\n",
    "    {'name': \"Union Station\",                'dist':  1.15},\n",
    "]\n",
    "\n",
    "\n",
    "ff1 = [\n",
    "    8.0,     # Boulder\n",
    "    8.05,    # Euclid\n",
    "    8.06,    # 20th\n",
    "    8.07,    # Baseline\n",
    "    8.09,    # Dartmouth\n",
    "    8.10,    # 39th\n",
    "    8.13,    # Table Mesa\n",
    "    8.18,    # McCaslin\n",
    "    8.22,    # Flatiron\n",
    "    8.26,    # Broomfield\n",
    "    8.28,    # Church Range\n",
    "    8.34,    # Sheridan\n",
    "    8.47,    # Wewatta\n",
    "    8.50,    # Union Station\n",
    "]\n",
    "\n",
    "ff1_east = [\n",
    "    ff1,\n",
    "    [t + 0.15 for t in ff1],\n",
    "    [t + 0.30 for t in ff1],\n",
    "    [t + 0.45 for t in ff1],\n",
    "    [t + 1.00 for t in ff1],\n",
    "    [t + 1.15 for t in ff1],\n",
    "    [t + 1.30 for t in ff1],\n",
    "    [t + 1.45 for t in ff1],\n",
    "    [t + 2.00 for t in ff1],\n",
    "]\n",
    "\n",
    "calendar = [8,9,10,11]\n",
    "\n",
    "dist_tot = sum([s['dist'] for s in stations])\n",
    "print(\"\"\"\n",
    "The Flatiron Flyer route has %d stops covering a total of %0.1f km.\n",
    "\"\"\" % (len(stations), dist_tot))"
   ]
  },
  {
   "cell_type": "code",
   "execution_count": null,
   "metadata": {
    "collapsed": false
   },
   "outputs": [],
   "source": [
    "width = 900\n",
    "height = 600\n",
    "margin_left = 150\n",
    "margin_right = 50\n",
    "\n",
    "top = margin_right\n",
    "left = margin_left\n",
    "boxw = width - (margin_left + margin_right)\n",
    "boxh = height - (margin_right*2)\n",
    "\n",
    "# set up a box\n",
    "svg = \"\"\"<?xml version=\"1.0\" encoding=\"UTF-8\"?>\n",
    "<svg xmlns:dc=\"http://purl.org/dc/elements/1.1/\" xmlns:cc=\"http://creativecommons.org/ns#\" xmlns:rdf=\"http://www.w3.org/1999/02/22-rdf-syntax-ns#\" xmlns:svg=\"http://www.w3.org/2000/svg\" xmlns=\"http://www.w3.org/2000/svg\"\n",
    "   version=\"1.1\" id=\"transitweb\"\n",
    "   viewBox=\"0 0 {width} {height}\"\n",
    "   width=\"{width}\" height=\"{height}\">\n",
    " <g id=\"layer1\">\n",
    "    <rect y=\"{top}\" x=\"{left}\" height=\"{boxh}\" width=\"{boxw}\"\n",
    "       id=\"outline\"\n",
    "       style=\"opacity:1;fill:#fbfafa;stroke:#eaeaea;stroke-width:1;stroke-opacity:1\"/>\n",
    " </g>\n",
    " \"\"\".format( width=width, height=height, top=top, left=left, boxw=boxw, boxh=boxh)\n",
    "\n",
    "# Boulder Label\n",
    "svg += \"\"\"<text xml:space=\"preserve\"\n",
    "  style=\"text-anchor:middle;text-align:center;font-style:normal;font-weight:bold;font-size:20px;line-height:125%;font-family:Lato;letter-spacing:0px;word-spacing:0px;fill:#666666;fill-opacity:1;stroke:none;\"\n",
    "  x=\"100\" y=\"25\"><tspan>Boulder</tspan></text>\n",
    "\"\"\"\n",
    "\n",
    "# Denver Label\n",
    "svg += \"\"\"<text xml:space=\"preserve\"\n",
    "  style=\"text-anchor:middle;text-align:center;font-style:normal;font-weight:bold;font-size:20px;line-height:125%;font-family:Lato;letter-spacing:0px;word-spacing:0px;fill:#666666;fill-opacity:1;stroke:none;\"\n",
    "  x=\"100\" y=\"575\"><tspan>Denver</tspan></text>\n",
    "\"\"\""
   ]
  },
  {
   "cell_type": "code",
   "execution_count": null,
   "metadata": {
    "collapsed": false
   },
   "outputs": [],
   "source": [
    "pos = top\n",
    "scale = boxh / dist_tot\n",
    "\n",
    "vertical = []\n",
    "for station in stations:\n",
    "    pos += (station['dist'] * scale)\n",
    "    vertical.append(pos)\n",
    "    svg += \"\"\"<text xml:space=\"preserve\"\n",
    "  style=\"writing-mode:lr-tb;text-anchor:end;font-style:normal;font-weight:normal;font-size:10px;line-height:125%;font-family:Lato;letter-spacing:0px;word-spacing:0px;fill:#666666;fill-opacity:1;stroke:none;\"\n",
    "  x=\"145\" y=\"{pos}\"><tspan>{name}</tspan></text>\n",
    "\"\"\".format(name=station['name'], pos=(pos + 2))\n",
    "    \n",
    "    svg += \"\"\"<path style=\"fill:none;stroke:#e4e4e4;stroke-width:1px;stroke-linecap:butt;stroke-linejoin:miter;stroke-opacity:1\"\n",
    "  d=\"m {left},{pos} {w},0\"/>\n",
    "\"\"\".format(pos=pos, left=margin_left, w=boxw)\n",
    "\n",
    "tscale = boxw / (len(calendar) - 1)\n",
    "for i, time in enumerate(calendar):\n",
    "    pos = margin_left + (i * tscale)\n",
    "    svg += \"\"\"<text xml:space=\"preserve\"\n",
    "  style=\"text-anchor:middle;text-align:center;font-style:normal;font-weight:bold;font-size:10px;line-height:125%;font-family:Lato;letter-spacing:0px;word-spacing:0px;fill:#666666;fill-opacity:1;stroke:none;\"\n",
    "  x=\"{pos}\" y=\"45\"><tspan>{name}</tspan></text>\n",
    "\"\"\".format(name=\"%d:00\"%time, pos=(pos + 2))\n",
    "    svg += \"\"\"<path style=\"fill:none;stroke:#e4e4e4;stroke-width:1.8px;stroke-linecap:butt;stroke-linejoin:miter;stroke-opacity:1\"\n",
    "  d=\"m {pos},50 0,{h}\"/>\n",
    "\"\"\".format(pos=pos, left=margin_left, h=boxh)"
   ]
  },
  {
   "cell_type": "code",
   "execution_count": null,
   "metadata": {
    "collapsed": false
   },
   "outputs": [],
   "source": [
    "for trip in ff1_east:\n",
    "    \n",
    "    path = \"M\"\n",
    "    for i, t in enumerate(trip):\n",
    "        # get into decimal time\n",
    "        dt = (t - int(t)) / 0.6\n",
    "        dt += int(t)\n",
    "        dt -= calendar[0]\n",
    "        y = vertical[i]\n",
    "        x = margin_left + (dt * tscale)\n",
    "        path += \" %0.4f,%0.4f\" % (x, y)\n",
    "        #print(y, dt, x)\n",
    "    svg += \"\"\"<path style=\"fill:none;stroke:#4f81e1;stroke-width:2px;stroke-linecap:butt;stroke-linejoin:miter;stroke-opacity:1\"\n",
    "      d=\"%s\"/>\n",
    "    \"\"\" % path"
   ]
  },
  {
   "cell_type": "code",
   "execution_count": null,
   "metadata": {
    "collapsed": false
   },
   "outputs": [],
   "source": [
    "from IPython.display import SVG, display\n",
    "\n",
    "#print(svg)\n",
    "\n",
    "display(SVG(svg + \"</svg>\"))"
   ]
  },
  {
   "cell_type": "markdown",
   "metadata": {},
   "source": []
  }
 ],
 "metadata": {
  "kernelspec": {
   "display_name": "Python 3",
   "language": "python",
   "name": "python3"
  },
  "language_info": {
   "codemirror_mode": {
    "name": "ipython",
    "version": 3
   },
   "file_extension": ".py",
   "mimetype": "text/x-python",
   "name": "python",
   "nbconvert_exporter": "python",
   "pygments_lexer": "ipython3",
   "version": "3.5.2"
  }
 },
 "nbformat": 4,
 "nbformat_minor": 1
}
